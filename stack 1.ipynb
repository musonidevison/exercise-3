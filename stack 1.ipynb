{
  "nbformat": 4,
  "nbformat_minor": 0,
  "metadata": {
    "colab": {
      "provenance": [],
      "authorship_tag": "ABX9TyNomvOC3qkv/TGxP/e9nmrK",
      "include_colab_link": true
    },
    "kernelspec": {
      "name": "python3",
      "display_name": "Python 3"
    },
    "language_info": {
      "name": "python"
    }
  },
  "cells": [
    {
      "cell_type": "markdown",
      "metadata": {
        "id": "view-in-github",
        "colab_type": "text"
      },
      "source": [
        "<a href=\"https://colab.research.google.com/github/musonidevison/exercise-3/blob/main/stack%201.ipynb\" target=\"_parent\"><img src=\"https://colab.research.google.com/assets/colab-badge.svg\" alt=\"Open In Colab\"/></a>"
      ]
    },
    {
      "cell_type": "code",
      "execution_count": 1,
      "metadata": {
        "colab": {
          "base_uri": "https://localhost:8080/"
        },
        "id": "CfHadoM_pfC7",
        "outputId": "cc01c436-e334-4d99-9a48-f49c35ada8aa"
      },
      "outputs": [
        {
          "output_type": "stream",
          "name": "stdout",
          "text": [
            "Stack after pushes: ['Chapter1', 'Chapter2', 'Chapter3']\n",
            "Stack after Undo 1 (pop): ['Chapter1', 'Chapter2']\n",
            "The top element is: Chapter2\n"
          ]
        }
      ],
      "source": [
        "# Practical (Rwanda)\n",
        "stack_ur = []\n",
        "# Pushes\n",
        "stack_ur.append(\"Chapter1\")\n",
        "stack_ur.append(\"Chapter2\")\n",
        "stack_ur.append(\"Chapter3\")\n",
        "print(f\"Stack after pushes: {stack_ur}\")\n",
        "\n",
        "# Undo 1 (Pop)\n",
        "if stack_ur:\n",
        "    stack_ur.pop()\n",
        "\n",
        "# Which is top? (Peek)\n",
        "top_element = stack_ur[-1] if stack_ur else \"Stack is empty\"\n",
        "print(f\"Stack after Undo 1 (pop): {stack_ur}\")\n",
        "print(f\"The top element is: {top_element}\")"
      ]
    }
  ]
}