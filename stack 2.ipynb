{
  "nbformat": 4,
  "nbformat_minor": 0,
  "metadata": {
    "colab": {
      "provenance": [],
      "authorship_tag": "ABX9TyPJo9/ujM+c/Ox9D2vv87hc",
      "include_colab_link": true
    },
    "kernelspec": {
      "name": "python3",
      "display_name": "Python 3"
    },
    "language_info": {
      "name": "python"
    }
  },
  "cells": [
    {
      "cell_type": "markdown",
      "metadata": {
        "id": "view-in-github",
        "colab_type": "text"
      },
      "source": [
        "<a href=\"https://colab.research.google.com/github/musonidevison/exercise-3/blob/main/stack%202.ipynb\" target=\"_parent\"><img src=\"https://colab.research.google.com/assets/colab-badge.svg\" alt=\"Open In Colab\"/></a>"
      ]
    },
    {
      "cell_type": "code",
      "source": [
        "# Practical (Irembo)\n",
        "stack_irembo = []\n",
        "# Pushes\n",
        "stack_irembo.append(\"Step1\")\n",
        "stack_irembo.append(\"Step2\")\n",
        "stack_irembo.append(\"Step3\")\n",
        "print(f\"Stack after pushes: {stack_irembo}\")\n",
        "\n",
        "# Undo 2 (Pop twice)\n",
        "if stack_irembo:\n",
        "    stack_irembo.pop() # Undo 1\n",
        "if stack_irembo:\n",
        "    stack_irembo.pop() # Undo 2\n",
        "\n",
        "# Which is left? (Bottom element)\n",
        "left_element = stack_irembo[0] if stack_irembo else \"Stack is empty\"\n",
        "print(f\"Stack after Undo 2 (pop twice): {stack_irembo}\")\n",
        "print(f\"The 'left' (bottom) element is: {left_element}\")"
      ],
      "metadata": {
        "id": "wYLCGDmKq0Ti"
      },
      "execution_count": null,
      "outputs": []
    }
  ]
}